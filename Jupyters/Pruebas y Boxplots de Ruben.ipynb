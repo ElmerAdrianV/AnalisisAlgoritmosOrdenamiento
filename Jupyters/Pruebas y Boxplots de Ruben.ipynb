{
 "cells": [
  {
   "cell_type": "code",
   "execution_count": 1,
   "metadata": {},
   "outputs": [],
   "source": [
    "import numpy as np\n",
    "import random\n",
    "import string\n",
    "import time\n",
    "import matplotlib.pyplot as plt\n"
   ]
  },
  {
   "cell_type": "markdown",
   "metadata": {},
   "source": [
    "# 1. Funciones de Ordenamiento"
   ]
  },
  {
   "cell_type": "markdown",
   "metadata": {},
   "source": [
    "### 1.1 Merge Sort Recursivo"
   ]
  },
  {
   "cell_type": "code",
   "execution_count": 2,
   "metadata": {},
   "outputs": [],
   "source": [
    "def merge_sort(lista):\n",
    "    tam = len(lista)\n",
    "    \n",
    "    if(tam==1):\n",
    "        return lista\n",
    "    \n",
    "    mitad = tam//2\n",
    "    #Para asegurarnos de que todas las particiones sean descompuestas a sus componentes individuales, \n",
    "    #llamamos recursivamente a la funcion merge sort\n",
    "    izquierda = merge_sort(lista[:mitad])\n",
    "    derecha = merge_sort(lista[mitad:])\n",
    "\n",
    "    #una vez descompuesto a la unidad, se empieza a unir por las llamadas en el Call Stack\n",
    "    return merge(izquierda, derecha)\n",
    "    \n",
    "##merge es el que realmente ordena, al ir checando los componentes        \n",
    "def merge(izquierda, derecha):\n",
    "    lista_ordenada =[]\n",
    "    i=j=0\n",
    "    \n",
    "    while i < len(izquierda) and j < len(derecha):\n",
    "        #compara los elementos en cada posicion de ambas listas\n",
    "        if izquierda[i] < derecha[j]:\n",
    "            lista_ordenada.append(izquierda[i])\n",
    "            i += 1\n",
    "        else:\n",
    "            lista_ordenada.append(derecha[j])\n",
    "            j +=1\n",
    "            \n",
    "    #los elemntos restantes son agregados al final de la lista\n",
    "    #claro esta que solo 1 de izquierda o derecha tendra elementos que agregar\n",
    "    lista_ordenada.extend(izquierda[i:])\n",
    "    lista_ordenada.extend(derecha[j:])\n",
    "    \n",
    "    return lista_ordenada"
   ]
  },
  {
   "cell_type": "code",
   "execution_count": null,
   "metadata": {},
   "outputs": [],
   "source": []
  },
  {
   "cell_type": "markdown",
   "metadata": {},
   "source": [
    "### 1.2 Selection Sort"
   ]
  },
  {
   "cell_type": "code",
   "execution_count": 3,
   "metadata": {},
   "outputs": [],
   "source": [
    "def selection_sort(A):\n",
    "    for i in range(len(A)):\n",
    "        minimo=i;\n",
    "        for j in range(i,len(A)):\n",
    "            if(A[j] < A[minimo]):\n",
    "                minimo=j\n",
    "        if(minimo != i):\n",
    "            aux=A[i]\n",
    "            A[i]=A[minimo]\n",
    "            A[minimo]=aux \n",
    "    return A       "
   ]
  },
  {
   "cell_type": "code",
   "execution_count": null,
   "metadata": {},
   "outputs": [],
   "source": []
  },
  {
   "cell_type": "markdown",
   "metadata": {},
   "source": [
    "### 1.3 Insertion Sort"
   ]
  },
  {
   "cell_type": "code",
   "execution_count": 4,
   "metadata": {},
   "outputs": [],
   "source": [
    "def insertion_sort(listas):\n",
    "    for i in range(1,len(listas),1):\n",
    "        a=listas[i]\n",
    "        j=i\n",
    "        while(j>0 and a<listas[j-1]):\n",
    "            listas[j]=listas[j-1]\n",
    "            j=j-1\n",
    "        listas[j]=a \n",
    "    return listas\n"
   ]
  },
  {
   "cell_type": "markdown",
   "metadata": {},
   "source": [
    "### 1.4 Merge Sort Iterativo"
   ]
  },
  {
   "cell_type": "code",
   "execution_count": 5,
   "metadata": {},
   "outputs": [],
   "source": [
    "def merge_it(lista, aux, desde, medio, hasta):\n",
    " \n",
    "    k = desde #para la auxiliar\n",
    "    i = desde #para la original, primera mitad\n",
    "    j = medio + 1 #para la original, segunda mitad\n",
    " \n",
    "    # while hasta que no halla elementos ni en la izquierda ni en la derecha\n",
    "    while i <= medio and j <= hasta:\n",
    "        if lista[i] < lista[j]:\n",
    "            aux[k] = lista[i]\n",
    "            i += 1\n",
    "        else:\n",
    "            aux[k] = lista[j]\n",
    "            j += 1\n",
    " \n",
    "        k += 1\n",
    " \n",
    "    #naturalmente, se cumplira una de las 2 condiciones.\n",
    "    #por lo cual debemos de copiar los elementos restantes\n",
    "    #aunque es obvio que no ocupamos copiar la otra mitad, porque ya estan ordenados en su posicion\n",
    "    while i < len(lista) and i <= medio:\n",
    "        aux[k] = lista[i]\n",
    "        k += 1\n",
    "        i += 1\n",
    " \n",
    "    # Copiamos a la lista original para que, ahora si, este ordenado\n",
    "    for i in range(desde, hasta + 1):\n",
    "        lista[i] = aux[i]"
   ]
  },
  {
   "cell_type": "code",
   "execution_count": 6,
   "metadata": {},
   "outputs": [],
   "source": [
    "def mergesort_it(lista):\n",
    " \n",
    "    inicio = 0\n",
    "    fin = len(lista) - 1\n",
    " \n",
    "    # Ordena la lista usando una lista auxiliar\n",
    "    aux = lista.copy()\n",
    " \n",
    "    # divide la lista en bloques de tamaño 'm'\n",
    "    # m = [1, 2, 4, 8, 16…]\n",
    " \n",
    "    m = 1\n",
    "    while m <= (fin - inicio): #ie, mientras podamos seguir haciendo subdivisiones\n",
    " \n",
    "        # m = 1, i = [0, 2, 4, 6, 8…]\n",
    "        # m = 2, i = [0, 4, 8, 12…]\n",
    "        # m = 4, i = [0, 8, 16…]\n",
    "        # …\n",
    " \n",
    "        for i in range(inicio, fin, 2*m):\n",
    "            desde = i\n",
    "            medio = (i + m) - 1\n",
    "            hasta = min( (i + 2*m - 1), fin) \n",
    "            #llegara el punto donde i+2*m superara a fin, en ese caso no podemos llamar a posiciones que no existen\n",
    "            merge_it(lista, aux, desde, medio, hasta)\n",
    " \n",
    "        m = 2*m"
   ]
  },
  {
   "cell_type": "markdown",
   "metadata": {},
   "source": [
    "# 2. Generacion de Datos"
   ]
  },
  {
   "cell_type": "markdown",
   "metadata": {},
   "source": [
    "### 2.1 Enteros"
   ]
  },
  {
   "cell_type": "code",
   "execution_count": 7,
   "metadata": {},
   "outputs": [],
   "source": [
    "lista_enteros_ascendiente = []\n",
    "lista_enteros_descendiente = []\n",
    "lista_aleatorio_1 = []\n",
    "lista_aleatorio_2 = []"
   ]
  },
  {
   "cell_type": "code",
   "execution_count": 8,
   "metadata": {},
   "outputs": [],
   "source": [
    "def generacion_ordenados(n=1000):\n",
    "    lista_enteros_ascendiente.clear() \n",
    "    lista_enteros_descendiente.clear()\n",
    "    for i in range(n):\n",
    "        lista_enteros_ascendiente.append(i)\n",
    "    for i in range(n):\n",
    "        lista_enteros_descendiente.append(n-i)"
   ]
  },
  {
   "cell_type": "code",
   "execution_count": 9,
   "metadata": {},
   "outputs": [],
   "source": [
    "def generacion_aleatorios(n=1000):\n",
    "    lista_aleatorio_1.clear()\n",
    "    lista_aleatorio_2.clear()\n",
    "    for i in range(n):\n",
    "        lista_aleatorio_1.append(random.randint(0,n))\n",
    "    for i in range(n):\n",
    "        lista_aleatorio_2.append(random.randint(-999999,999999))"
   ]
  },
  {
   "cell_type": "markdown",
   "metadata": {},
   "source": [
    "### 2.2 Strings Aleatorios"
   ]
  },
  {
   "cell_type": "code",
   "execution_count": 10,
   "metadata": {},
   "outputs": [],
   "source": [
    "cadenas_aleatorias=[]"
   ]
  },
  {
   "cell_type": "code",
   "execution_count": 11,
   "metadata": {},
   "outputs": [],
   "source": [
    "def get_random_string4():\n",
    "    randomString=''.join(random.choice(string.ascii_lowercase) for i in range(4))\n",
    "    return randomString"
   ]
  },
  {
   "cell_type": "code",
   "execution_count": 12,
   "metadata": {},
   "outputs": [],
   "source": [
    "def generacion_cadenas_aleatorias(n=1000):\n",
    "    cadenas_aleatorias.clear()\n",
    "    for i in range(0,n):\n",
    "        num = get_random_string4()\n",
    "        cadenas_aleatorias.append(num)"
   ]
  },
  {
   "cell_type": "code",
   "execution_count": null,
   "metadata": {},
   "outputs": [],
   "source": []
  },
  {
   "cell_type": "markdown",
   "metadata": {},
   "source": [
    "### 2.3 Persona"
   ]
  },
  {
   "cell_type": "code",
   "execution_count": 13,
   "metadata": {},
   "outputs": [],
   "source": [
    "lista_de_personas = []"
   ]
  },
  {
   "cell_type": "code",
   "execution_count": 14,
   "metadata": {},
   "outputs": [],
   "source": [
    "def generarPeso():\n",
    "    return random.uniform(40,200)\n",
    "    \n",
    "def generarAltura():\n",
    "    return random.randint(140,200) "
   ]
  },
  {
   "cell_type": "code",
   "execution_count": 15,
   "metadata": {},
   "outputs": [],
   "source": [
    "class Persona():\n",
    "    def __init__(self, peso, altura):\n",
    "        self.peso = peso\n",
    "        self.altura = altura\n",
    "            \n",
    "    def __eq__(self, otro):\n",
    "        if isinstance(otro, Persona):\n",
    "            return self.peso == otro.peso and self.altura == otro.altura\n",
    "        return False\n",
    "\n",
    "    def __gt__(self, otro):\n",
    "        if isinstance(otro, Persona):\n",
    "            if(self.altura > otro.altura):\n",
    "                return True\n",
    "            elif(self.altura==self.altura):\n",
    "                return self.peso > otro.peso\n",
    "        return False\n",
    "\n",
    "    def __lt__(self, otro):\n",
    "        if isinstance(otro, Persona):\n",
    "            if(self.altura < otro.altura):\n",
    "                return True\n",
    "            elif(self.altura==self.altura):\n",
    "                return self.peso < otro.peso\n",
    "    \n",
    "    def __str__(self):\n",
    "        texto = \"La persona mide \"\n",
    "        texto += str(self.altura) + \" cm y pesa \"\n",
    "        texto += str(self.peso) + \" kg\" \n",
    "        return texto\n",
    "\n",
    "    def __repr__(self):\n",
    "        return self.__str__()"
   ]
  },
  {
   "cell_type": "code",
   "execution_count": 16,
   "metadata": {},
   "outputs": [],
   "source": [
    "def generacion_de_personas(n=1000):\n",
    "    lista_de_personas.clear()\n",
    "    for i in range(0, n):\n",
    "        p = Persona(generarPeso(), generarAltura())\n",
    "        lista_de_personas.append(p)"
   ]
  },
  {
   "cell_type": "markdown",
   "metadata": {},
   "source": [
    "# 3. Multiples Pruebas"
   ]
  },
  {
   "cell_type": "code",
   "execution_count": 17,
   "metadata": {},
   "outputs": [],
   "source": [
    "generacion_ordenados()\n",
    "generacion_aleatorios()"
   ]
  },
  {
   "cell_type": "markdown",
   "metadata": {},
   "source": [
    "Pruebas con enteros Ordenados"
   ]
  },
  {
   "cell_type": "code",
   "execution_count": 18,
   "metadata": {},
   "outputs": [],
   "source": [
    "tiempos_ms_enteros_ascendentes = []\n",
    "tiempos_is_enteros_ascendentes = []\n",
    "tiempos_ss_enteros_ascendentes = []"
   ]
  },
  {
   "cell_type": "code",
   "execution_count": 19,
   "metadata": {},
   "outputs": [],
   "source": [
    "for i in range(0, 20):    \n",
    "    lista_or = lista_enteros_ascendiente.copy()\n",
    "    start_time = time.time()\n",
    "    mergesort_it(lista_or)\n",
    "    end_time = time.time()\n",
    "    duracion_ms = (end_time - start_time)*1000\n",
    "    \n",
    "    lista_or = lista_enteros_ascendiente.copy()\n",
    "    start_time = time.time()\n",
    "    insertion_sort(lista_or)\n",
    "    end_time = time.time()\n",
    "    duracion_is = (end_time - start_time)*1000\n",
    "\n",
    "    lista_or = lista_enteros_ascendiente.copy()\n",
    "    start_time = time.time()\n",
    "    selection_sort(lista_or)\n",
    "    end_time = time.time()\n",
    "    duracion_ss = (end_time - start_time)*1000    \n",
    "    \n",
    "    \n",
    "    tiempos_ms_enteros_ascendentes.append(duracion_ms)\n",
    "    tiempos_is_enteros_ascendentes.append(duracion_is)\n",
    "    tiempos_ss_enteros_ascendentes.append(duracion_ss)\n"
   ]
  },
  {
   "cell_type": "markdown",
   "metadata": {},
   "source": [
    "Pruebas con enteros de mayor a menor"
   ]
  },
  {
   "cell_type": "code",
   "execution_count": 20,
   "metadata": {},
   "outputs": [],
   "source": [
    "tiempos_ms_enteros_descendientes = []\n",
    "tiempos_is_enteros_descendientes = []\n",
    "tiempos_ss_enteros_descendientes = []"
   ]
  },
  {
   "cell_type": "code",
   "execution_count": 21,
   "metadata": {},
   "outputs": [],
   "source": [
    "for i in range(0, 20):    \n",
    "    lista_des = lista_enteros_descendiente.copy()\n",
    "    start_time = time.time()\n",
    "    mergesort_it(lista_des)\n",
    "    end_time = time.time()\n",
    "    duracion_ms = (end_time - start_time)*1000\n",
    "    \n",
    "    lista_des = lista_enteros_descendiente.copy()\n",
    "    start_time = time.time()\n",
    "    insertion_sort(lista_des)\n",
    "    end_time = time.time()\n",
    "    duracion_is = (end_time - start_time)*1000\n",
    "\n",
    "    lista_des = lista_enteros_descendiente.copy()\n",
    "    start_time = time.time()\n",
    "    selection_sort(lista_des)\n",
    "    end_time = time.time()\n",
    "    duracion_ss = (end_time - start_time)*1000    \n",
    "    \n",
    "    \n",
    "    tiempos_ms_enteros_descendientes.append(duracion_ms)\n",
    "    tiempos_is_enteros_descendientes.append(duracion_is)\n",
    "    tiempos_ss_enteros_descendientes.append(duracion_ss)"
   ]
  },
  {
   "cell_type": "markdown",
   "metadata": {},
   "source": [
    "Pruebas con enteros aleatorios"
   ]
  },
  {
   "cell_type": "code",
   "execution_count": 22,
   "metadata": {},
   "outputs": [],
   "source": [
    "tiempos_ms_enteros_aleatorios1 = []\n",
    "tiempos_ms_enteros_aleatorios2 = []\n",
    "tiempos_is_enteros_aleatorios1 = []\n",
    "tiempos_is_enteros_aleatorios2 = []\n",
    "tiempos_ss_enteros_aleatorios1 = []\n",
    "tiempos_ss_enteros_aleatorios2 = []"
   ]
  },
  {
   "cell_type": "code",
   "execution_count": 23,
   "metadata": {},
   "outputs": [],
   "source": [
    "for i in range(0, 20):\n",
    "    \n",
    "    lista_al_1 = lista_aleatorio_1.copy()\n",
    "    start_time = time.time()\n",
    "    mergesort_it(lista_al_1)\n",
    "    end_time = time.time()\n",
    "    duracion_ms = (end_time - start_time)*1000\n",
    "    \n",
    "    lista_al_1 = lista_aleatorio_1.copy()\n",
    "    start_time = time.time()\n",
    "    insertion_sort(lista_al_1)\n",
    "    end_time = time.time()\n",
    "    duracion_is = (end_time - start_time)*1000\n",
    "\n",
    "    lista_al_1 = lista_aleatorio_1.copy()\n",
    "    start_time = time.time()\n",
    "    selection_sort(lista_al_1)\n",
    "    end_time = time.time()\n",
    "    duracion_ss = (end_time - start_time)*1000    \n",
    "    \n",
    "    \n",
    "    tiempos_ms_enteros_aleatorios1.append(duracion_ms)\n",
    "    tiempos_is_enteros_aleatorios1.append(duracion_is)\n",
    "    tiempos_ss_enteros_aleatorios1.append(duracion_ss)"
   ]
  },
  {
   "cell_type": "code",
   "execution_count": 24,
   "metadata": {},
   "outputs": [],
   "source": [
    "for i in range(0, 20):\n",
    "    \n",
    "    lista_al_2 = lista_aleatorio_2.copy()\n",
    "    start_time = time.time()\n",
    "    mergesort_it(lista_al_2)\n",
    "    end_time = time.time()\n",
    "    duracion_ms = (end_time - start_time)*1000\n",
    "    \n",
    "    lista_al_2 = lista_aleatorio_2.copy()\n",
    "    start_time = time.time()\n",
    "    insertion_sort(lista_al_2)\n",
    "    end_time = time.time()\n",
    "    duracion_is = (end_time - start_time)*1000\n",
    "\n",
    "    lista_al_2 = lista_aleatorio_2.copy()\n",
    "    start_time = time.time()\n",
    "    selection_sort(lista_al_2)\n",
    "    end_time = time.time()\n",
    "    duracion_ss = (end_time - start_time)*1000    \n",
    "    \n",
    "    \n",
    "    tiempos_ms_enteros_aleatorios2.append(duracion_ms)\n",
    "    tiempos_is_enteros_aleatorios2.append(duracion_is)\n",
    "    tiempos_ss_enteros_aleatorios2.append(duracion_ss)"
   ]
  },
  {
   "cell_type": "markdown",
   "metadata": {},
   "source": [
    "Pruebas con cadenas aleatorias"
   ]
  },
  {
   "cell_type": "code",
   "execution_count": 25,
   "metadata": {},
   "outputs": [],
   "source": [
    "tiempos_ms_cadenas_aleatorias = []\n",
    "tiempos_is_cadenas_aleatorias = []\n",
    "tiempos_ss_cadenas_aleatorias = []\n",
    "generacion_cadenas_aleatorias()"
   ]
  },
  {
   "cell_type": "code",
   "execution_count": 26,
   "metadata": {},
   "outputs": [],
   "source": [
    "for i in range(0, 20):\n",
    "    \n",
    "    lista_cad = cadenas_aleatorias.copy()\n",
    "    start_time = time.time()\n",
    "    mergesort_it(lista_cad)\n",
    "    end_time = time.time()\n",
    "    duracion_ms = (end_time - start_time)*1000\n",
    "    \n",
    "    lista_cad = cadenas_aleatorias.copy()\n",
    "    start_time = time.time()\n",
    "    insertion_sort(lista_cad)\n",
    "    end_time = time.time()\n",
    "    duracion_is = (end_time - start_time)*1000\n",
    "\n",
    "    lista_cad = cadenas_aleatorias.copy()\n",
    "    start_time = time.time()\n",
    "    selection_sort(lista_al_2)\n",
    "    end_time = time.time()\n",
    "    duracion_ss = (end_time - start_time)*1000    \n",
    "    \n",
    "    \n",
    "    tiempos_ms_cadenas_aleatorias.append(duracion_ms)\n",
    "    tiempos_is_cadenas_aleatorias.append(duracion_is)\n",
    "    tiempos_ss_cadenas_aleatorias.append(duracion_ss)"
   ]
  },
  {
   "cell_type": "markdown",
   "metadata": {},
   "source": [
    "Pruebas con Objetos Persona aleatorio"
   ]
  },
  {
   "cell_type": "code",
   "execution_count": 27,
   "metadata": {},
   "outputs": [],
   "source": [
    "tiempos_ms_personas = []\n",
    "tiempos_is_personas = []\n",
    "tiempos_ss_personas = []"
   ]
  },
  {
   "cell_type": "code",
   "execution_count": 28,
   "metadata": {
    "scrolled": true
   },
   "outputs": [],
   "source": [
    "generacion_de_personas()"
   ]
  },
  {
   "cell_type": "code",
   "execution_count": 29,
   "metadata": {},
   "outputs": [],
   "source": [
    "for i in range(0, 20):\n",
    "    lista_copia_personas = lista_de_personas.copy()\n",
    "    start_time = time.time()\n",
    "    mergesort_it(lista_copia_personas)\n",
    "    end_time = time.time()\n",
    "    duracion_ms = (end_time - start_time)*1000\n",
    "    \n",
    "    lista_copia_personas = lista_de_personas.copy()\n",
    "    start_time = time.time()\n",
    "    insertion_sort(lista_copia_personas)\n",
    "    end_time = time.time()\n",
    "    duracion_is = (end_time - start_time)*1000\n",
    "\n",
    "    lista_copia_personas = lista_de_personas.copy()\n",
    "    start_time = time.time()\n",
    "    selection_sort(lista_copia_personas)\n",
    "    end_time = time.time()\n",
    "    duracion_ss = (end_time - start_time)*1000    \n",
    "        \n",
    "    tiempos_ms_personas.append(duracion_ms)\n",
    "    tiempos_is_personas.append(duracion_is)\n",
    "    tiempos_ss_personas.append(duracion_ss)"
   ]
  },
  {
   "cell_type": "markdown",
   "metadata": {},
   "source": [
    "# 4. Graficas Comparando Diferentes Metodos de Ordenamiento"
   ]
  },
  {
   "cell_type": "code",
   "execution_count": 30,
   "metadata": {},
   "outputs": [
    {
     "data": {
      "image/png": "[encoded data removed]",
      "text/plain": [
       "<Figure size 432x288 with 1 Axes>"
      ]
     },
     "metadata": {
      "needs_background": "light"
     },
     "output_type": "display_data"
    }
   ],
   "source": [
    "data = [tiempos_ms_enteros_ascendentes, tiempos_is_enteros_ascendentes, tiempos_ss_enteros_ascendentes]\n",
    "etiquetas = [\"Merge Sort\", \"Insertion Sort\", \"Selection Sort\"]\n",
    "fig, ax = plt.subplots()\n",
    "\n",
    "fig.canvas.draw()\n",
    "\n",
    "plt.boxplot(data)\n",
    "plt.ylabel('Numero de Milisegundos')\n",
    "plt.title(\"Eficiencia promedio sobre una lista de 1000 numeros de menor a mayor\")\n",
    "ax.set_xticklabels(etiquetas)\n",
    "plt.show()"
   ]
  },
  {
   "cell_type": "code",
   "execution_count": 31,
   "metadata": {},
   "outputs": [
    {
     "data": {
      "image/png": "[encoded data removed]",
      "text/plain": [
       "<Figure size 432x288 with 1 Axes>"
      ]
     },
     "metadata": {
      "needs_background": "light"
     },
     "output_type": "display_data"
    }
   ],
   "source": [
    "data = [tiempos_ms_enteros_descendientes, tiempos_is_enteros_descendientes, tiempos_ss_enteros_descendientes]\n",
    "etiquetas = [\"Merge Sort\", \"Insertion Sort\", \"Selection Sort\"]\n",
    "fig, ax = plt.subplots()\n",
    "\n",
    "fig.canvas.draw()\n",
    "\n",
    "plt.boxplot(data)\n",
    "plt.ylabel('Numero de Milisegundos')\n",
    "plt.title(\"Eficiencia promedio sobre una lista de 1000 numeros de mayor a menor\")\n",
    "ax.set_xticklabels(etiquetas)\n",
    "plt.show()"
   ]
  },
  {
   "cell_type": "code",
   "execution_count": 32,
   "metadata": {},
   "outputs": [
    {
     "data": {
      "image/png": "[encoded data removed]",
      "text/plain": [
       "<Figure size 432x288 with 1 Axes>"
      ]
     },
     "metadata": {
      "needs_background": "light"
     },
     "output_type": "display_data"
    }
   ],
   "source": [
    "data = [tiempos_ms_enteros_aleatorios1, tiempos_is_enteros_aleatorios1, tiempos_ss_enteros_aleatorios1]\n",
    "etiquetas = [\"Merge Sort\", \"Insertion Sort\", \"Selection Sort\"]\n",
    "fig, ax = plt.subplots()\n",
    "\n",
    "fig.canvas.draw()\n",
    "\n",
    "plt.boxplot(data)\n",
    "plt.ylabel('Numero de Milisegundos')\n",
    "plt.title(\"Prueba #1: Eficiencia promedio sobre una lista de 1000 enteros aleatorios\")\n",
    "ax.set_xticklabels(etiquetas)\n",
    "plt.show()"
   ]
  },
  {
   "cell_type": "code",
   "execution_count": 33,
   "metadata": {},
   "outputs": [
    {
     "data": {
      "image/png": "[encoded data removed]",
      "text/plain": [
       "<Figure size 432x288 with 1 Axes>"
      ]
     },
     "metadata": {
      "needs_background": "light"
     },
     "output_type": "display_data"
    }
   ],
   "source": [
    "data = [tiempos_ms_enteros_aleatorios2, tiempos_is_enteros_aleatorios2, tiempos_ss_enteros_aleatorios2]\n",
    "etiquetas = [\"Merge Sort\", \"Insertion Sort\", \"Selection Sort\"]\n",
    "fig, ax = plt.subplots()\n",
    "\n",
    "fig.canvas.draw()\n",
    "\n",
    "plt.boxplot(data)\n",
    "plt.ylabel('Numero de Milisegundos')\n",
    "plt.title(\"Prueba #2: Eficiencia promedio sobre una lista de 1000 enteros aleatorios\")\n",
    "ax.set_xticklabels(etiquetas)\n",
    "plt.show()"
   ]
  },
  {
   "cell_type": "code",
   "execution_count": 34,
   "metadata": {},
   "outputs": [
    {
     "data": {
      "image/png": "[encoded data removed]",
      "text/plain": [
       "<Figure size 432x288 with 1 Axes>"
      ]
     },
     "metadata": {
      "needs_background": "light"
     },
     "output_type": "display_data"
    }
   ],
   "source": [
    "data = [tiempos_ms_cadenas_aleatorias, tiempos_is_cadenas_aleatorias, tiempos_ss_cadenas_aleatorias]\n",
    "etiquetas = [\"Merge Sort\", \"Insertion Sort\", \"Selection Sort\"]\n",
    "fig, ax = plt.subplots()\n",
    "\n",
    "fig.canvas.draw()\n",
    "\n",
    "plt.boxplot(data)\n",
    "plt.ylabel('Numero de Milisegundos')\n",
    "plt.title(\"Eficiencia promedio sobre una lista de 1000 cadenas de 4 caracteres aleatorios\")\n",
    "ax.set_xticklabels(etiquetas)\n",
    "plt.show()"
   ]
  },
  {
   "cell_type": "code",
   "execution_count": 35,
   "metadata": {},
   "outputs": [
    {
     "data": {
      "image/png": "[encoded data removed]",
      "text/plain": [
       "<Figure size 432x288 with 1 Axes>"
      ]
     },
     "metadata": {
      "needs_background": "light"
     },
     "output_type": "display_data"
    }
   ],
   "source": [
    "data = [tiempos_ms_personas, tiempos_is_personas, tiempos_ss_personas]\n",
    "etiquetas = [\"Merge Sort\", \"Insertion Sort\", \"Selection Sort\"]\n",
    "fig, ax = plt.subplots()\n",
    "\n",
    "fig.canvas.draw()\n",
    "\n",
    "plt.boxplot(data)\n",
    "plt.ylabel('Numero de Milisegundos')\n",
    "plt.title(\"Eficiencia promedio sobre una lista de 1000 objetos aleatorios\")\n",
    "ax.set_xticklabels(etiquetas)\n",
    "plt.show()"
   ]
  },
  {
   "cell_type": "markdown",
   "metadata": {},
   "source": [
    "# 5. Graficas Comparando el Mismo metodo sobre diferentes datasets"
   ]
  },
  {
   "cell_type": "code",
   "execution_count": 43,
   "metadata": {},
   "outputs": [
    {
     "data": {
      "image/png": "[encoded data removed]",
      "text/plain": [
       "<Figure size 1224x576 with 1 Axes>"
      ]
     },
     "metadata": {
      "needs_background": "light"
     },
     "output_type": "display_data"
    }
   ],
   "source": [
    "data = [tiempos_ms_enteros_ascendentes, tiempos_ms_enteros_descendientes, \n",
    "        tiempos_ms_enteros_aleatorios1, tiempos_ms_enteros_aleatorios2,\n",
    "        tiempos_ms_cadenas_aleatorias, tiempos_ms_personas]\n",
    "etiquetas = [\"Enteros en Orden Ascendente\",\"Enteros en Orden Descendiente\", \"Enteros Aleatorios Positivos\",\n",
    "             \"Enteros Aleatorios Mixtos\",\"Strings Aleatorios\", \"Objetos Aleatorios\"]\n",
    "fig, ax = plt.subplots()\n",
    "\n",
    "fig.canvas.draw()\n",
    "fig.set_size_inches(17, 8, forward=True)\n",
    "\n",
    "plt.boxplot(data)\n",
    "plt.ylabel('Numero de Milisegundos')\n",
    "plt.title(\"Merge Sort - 1000 Elementos\")\n",
    "ax.set_xticklabels(etiquetas)\n",
    "plt.show()"
   ]
  },
  {
   "cell_type": "code",
   "execution_count": 42,
   "metadata": {},
   "outputs": [
    {
     "data": {
      "image/png": "[encoded data removed]",
      "text/plain": [
       "<Figure size 1224x576 with 1 Axes>"
      ]
     },
     "metadata": {
      "needs_background": "light"
     },
     "output_type": "display_data"
    }
   ],
   "source": [
    "data = [tiempos_is_enteros_ascendentes, tiempos_is_enteros_descendientes, \n",
    "        tiempos_is_enteros_aleatorios1, tiempos_is_enteros_aleatorios2,\n",
    "        tiempos_is_cadenas_aleatorias, tiempos_is_personas]\n",
    "etiquetas = [\"Enteros en Orden Ascendente\",\"Enteros en Orden Descendiente\", \"Enteros Aleatorios Positivos\",\n",
    "             \"Enteros Aleatorios Mixtos\",\"Strings Aleatorios\", \"Objetos Aleatorios\"]\n",
    "fig, ax = plt.subplots()\n",
    "\n",
    "fig.canvas.draw()\n",
    "fig.set_size_inches(17, 8, forward=True)\n",
    "\n",
    "plt.boxplot(data)\n",
    "plt.ylabel('Numero de Milisegundos')\n",
    "plt.title(\"Insertion Sort - 1000 elementos\")\n",
    "ax.set_xticklabels(etiquetas)\n",
    "plt.show()"
   ]
  },
  {
   "cell_type": "code",
   "execution_count": 44,
   "metadata": {},
   "outputs": [
    {
     "data": {
      "image/png": "[encoded data removed]",
      "text/plain": [
       "<Figure size 1224x576 with 1 Axes>"
      ]
     },
     "metadata": {
      "needs_background": "light"
     },
     "output_type": "display_data"
    }
   ],
   "source": [
    "data = [tiempos_ss_enteros_ascendentes, tiempos_ss_enteros_descendientes, \n",
    "        tiempos_ss_enteros_aleatorios1, tiempos_ss_enteros_aleatorios2,\n",
    "        tiempos_ss_cadenas_aleatorias, tiempos_ss_personas]\n",
    "etiquetas = [\"Enteros en Orden Ascendente\",\"Enteros en Orden Descendiente\", \"Enteros Aleatorios Positivos\",\n",
    "             \"Enteros Aleatorios Mixtos\",\"Strings Aleatorios\", \"Objetos Aleatorios\"]\n",
    "fig, ax = plt.subplots()\n",
    "\n",
    "fig.canvas.draw()\n",
    "fig.set_size_inches(17, 8, forward=True)\n",
    "\n",
    "plt.boxplot(data)\n",
    "plt.ylabel('Numero de Milisegundos')\n",
    "plt.title(\"Selection Sort - 1000 Elementos\")\n",
    "ax.set_xticklabels(etiquetas)\n",
    "plt.show()"
   ]
  }
 ],
 "metadata": {
  "kernelspec": {
   "display_name": "Python 3",
   "language": "python",
   "name": "python3"
  },
  "language_info": {
   "codemirror_mode": {
    "name": "ipython",
    "version": 3
   },
   "file_extension": ".py",
   "mimetype": "text/x-python",
   "name": "python",
   "nbconvert_exporter": "python",
   "pygments_lexer": "ipython3",
   "version": "3.7.6"
  }
 },
 "nbformat": 4,
 "nbformat_minor": 4
}
