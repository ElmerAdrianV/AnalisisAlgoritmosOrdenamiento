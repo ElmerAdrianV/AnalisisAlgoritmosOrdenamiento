{
 "cells": [
  {
   "cell_type": "code",
   "execution_count": 1,
   "id": "989f3503",
   "metadata": {},
   "outputs": [
    {
     "name": "stdout",
     "output_type": "stream",
     "text": [
      "hello\n"
     ]
    }
   ],
   "source": [
    "print(\"hello\")"
   ]
  },
  {
   "cell_type": "code",
   "execution_count": 4,
   "id": "2f739a6e",
   "metadata": {},
   "outputs": [
    {
     "data": {
      "text/plain": [
       "6.435896873474121"
      ]
     },
     "execution_count": 4,
     "metadata": {},
     "output_type": "execute_result"
    }
   ],
   "source": [
    "\n",
    "def seleccion(A):\n",
    "    for i in range(len(A)):\n",
    "        minimo=i;\n",
    "        for j in range(i,len(A)):\n",
    "            if(A[j] < A[minimo]):\n",
    "                minimo=j\n",
    "        if(minimo != i):\n",
    "            aux=A[i]\n",
    "            A[i]=A[minimo]\n",
    "            A[minimo]=aux \n",
    "    return A       \n",
    "            \n",
    "lista=list(range(0,10000,1))\n",
    "\n",
    "seleccion(lista)\n",
    "\n",
    "\n",
    "            "
   ]
  },
  {
   "cell_type": "code",
   "execution_count": null,
   "id": "24f28ac1",
   "metadata": {},
   "outputs": [],
   "source": []
  },
  {
   "cell_type": "code",
   "execution_count": null,
   "id": "ba8d9443",
   "metadata": {},
   "outputs": [],
   "source": []
  }
 ],
 "metadata": {
  "kernelspec": {
   "display_name": "Python 3",
   "language": "python",
   "name": "python3"
  },
  "language_info": {
   "codemirror_mode": {
    "name": "ipython",
    "version": 3
   },
   "file_extension": ".py",
   "mimetype": "text/x-python",
   "name": "python",
   "nbconvert_exporter": "python",
   "pygments_lexer": "ipython3",
   "version": "3.8.8"
  }
 },
 "nbformat": 4,
 "nbformat_minor": 5
}
