{
 "cells": [
  {
   "cell_type": "markdown",
   "metadata": {},
   "source": [
    "### 0. Herramientas para generacion y medicion de datos"
   ]
  },
  {
   "cell_type": "code",
   "execution_count": 43,
   "metadata": {},
   "outputs": [],
   "source": [
    "import numpy as np # linear algebra\n",
    "import pandas as pd # data processing, CSV file I/O (e.g. pd.read_csv)\n",
    "\n",
    "# Input data files are available in the \"../input/\" directory.\n",
    "# For example, running this (by clicking run or pressing Shift+Enter) will list the files in the input directory\n",
    "\n",
    "import os\n",
    "import timeit\n",
    "import time\n",
    "from timeit import Timer\n",
    "import numpy as np\n",
    "import random\n",
    "import string\n",
    "from datetime import datetime\n",
    "\n",
    "import matplotlib.pyplot as plt\n",
    "random.seed(42)"
   ]
  },
  {
   "cell_type": "markdown",
   "metadata": {},
   "source": [
    "### 1. Merge Sort recursivo"
   ]
  },
  {
   "cell_type": "code",
   "execution_count": 5,
   "metadata": {},
   "outputs": [],
   "source": [
    "def merge_sort(lista):\n",
    "    tam = len(lista)\n",
    "    \n",
    "    if(tam==1):\n",
    "        return lista\n",
    "    \n",
    "    mitad = tam//2\n",
    "    #Para asegurarnos de que todas las particiones sean descompuestas a sus componentes individuales, \n",
    "    #llamamos recursivamente a la funcion merge sort\n",
    "    izquierda = merge_sort(lista[:mitad])\n",
    "    derecha = merge_sort(lista[mitad:])\n",
    "\n",
    "    #una vez descompuesto a la unidad, se empieza a unir por las llamadas en el Call Stack\n",
    "    return merge(izquierda, derecha)\n",
    "    \n",
    "##merge es el que realmente ordena, al ir checando los componentes        \n",
    "def merge(izquierda, derecha):\n",
    "    lista_ordenada =[]\n",
    "    i=j=0\n",
    "    \n",
    "    while i < len(izquierda) and j < len(derecha):\n",
    "        #compara los elementos en cada posicion de ambas listas\n",
    "        if izquierda[i] < derecha[j]:\n",
    "            lista_ordenada.append(izquierda[i])\n",
    "            i += 1\n",
    "        else:\n",
    "            lista_ordenada.append(derecha[j])\n",
    "            j +=1\n",
    "            \n",
    "    #los elemntos restantes son agregados al final de la lista\n",
    "    #claro esta que solo 1 de izquierda o derecha tendra elementos que agregar\n",
    "    lista_ordenada.extend(izquierda[i:])\n",
    "    lista_ordenada.extend(derecha[j:])\n",
    "    \n",
    "    return lista_ordenada"
   ]
  },
  {
   "cell_type": "markdown",
   "metadata": {},
   "source": [
    "### 2. Merge Sort Iterativo\n",
    "Tambien llamado \"Merge Sort de abajo hacia arriba\""
   ]
  },
  {
   "cell_type": "code",
   "execution_count": 6,
   "metadata": {},
   "outputs": [],
   "source": [
    "def merge_it(lista, aux, desde, medio, hasta):\n",
    " \n",
    "    k = desde #para la auxiliar\n",
    "    i = desde #para la original, primera mitad\n",
    "    j = medio + 1 #para la original, segunda mitad\n",
    " \n",
    "    # while hasta que no halla elementos ni en la izquierda ni en la derecha\n",
    "    while i <= medio and j <= hasta:\n",
    "        if lista[i] < lista[j]:\n",
    "            aux[k] = lista[i]\n",
    "            i += 1\n",
    "        else:\n",
    "            aux[k] = lista[j]\n",
    "            j += 1\n",
    " \n",
    "        k += 1\n",
    " \n",
    "    #naturalmente, se cumplira una de las 2 condiciones.\n",
    "    #por lo cual debemos de copiar los elementos restantes\n",
    "    #aunque es obvio que no ocupamos copiar la otra mitad, porque ya estan ordenados en su posicion\n",
    "    while i < len(lista) and i <= medio:\n",
    "        aux[k] = lista[i]\n",
    "        k += 1\n",
    "        i += 1\n",
    " \n",
    "    # Copiamos a la lista original para que, ahora si, este ordenado\n",
    "    for i in range(desde, hasta + 1):\n",
    "        lista[i] = aux[i]"
   ]
  },
  {
   "cell_type": "code",
   "execution_count": 7,
   "metadata": {},
   "outputs": [],
   "source": [
    "def mergesort_it(lista):\n",
    " \n",
    "    inicio = 0\n",
    "    fin = len(lista) - 1\n",
    " \n",
    "    # Ordena la lista usando una lista auxiliar\n",
    "    aux = lista.copy()\n",
    " \n",
    "    # divide la lista en bloques de tamaño 'm'\n",
    "    # m = [1, 2, 4, 8, 16…]\n",
    " \n",
    "    m = 1\n",
    "    while m <= (fin - inicio): #ie, mientras podamos seguir haciendo subdivisiones\n",
    " \n",
    "        # m = 1, i = [0, 2, 4, 6, 8…]\n",
    "        # m = 2, i = [0, 4, 8, 12…]\n",
    "        # m = 4, i = [0, 8, 16…]\n",
    "        # …\n",
    " \n",
    "        for i in range(inicio, fin, 2*m):\n",
    "            desde = i\n",
    "            medio = (i + m) - 1\n",
    "            hasta = min( (i + 2*m - 1), fin) \n",
    "            #llegara el punto donde i+2*m superara a fin, en ese caso no podemos llamar a posiciones que no existen\n",
    "            merge_it(lista, aux, desde, medio, hasta)\n",
    " \n",
    "        m = 2*m"
   ]
  },
  {
   "cell_type": "markdown",
   "metadata": {},
   "source": [
    "### 3. Quick Sort"
   ]
  },
  {
   "cell_type": "code",
   "execution_count": 8,
   "metadata": {},
   "outputs": [],
   "source": [
    "def particion(lista,inicio,fin):\n",
    "    i = (inicio - 1)\n",
    "    #inicializamos el indice del elemento mas pequeño, mientras que pivote sera el ultimo elemento\n",
    "    #se que en clase lo hicimos con el primer elemento, pero el libro me enamoro. Lo siento, profesor.\n",
    "    pivot = lista[fin]\n",
    "    #haremos un ciclo iterando desde el elemento mas\n",
    "    for j in range(inicio, fin):\n",
    "        #si el valor que actualmente estamos recorriendo es menor al pivote, aumentamos el indice del elemento menor\n",
    "        if lista[j] <= pivot:\n",
    "            i = i + 1\n",
    "            lista[i], lista[j] =  lista[j], lista[i]\n",
    "        #de otro modo (si el valor actual es mayor al pivote), intercambiamos los valores\n",
    "    lista[i+1],lista[fin] = lista[fin],lista[i+1]\n",
    "    return (i+1)\n",
    "\n",
    "def quickSort(lista, inicio, fin):\n",
    "    #vamos a \n",
    "    if inicio < fin:\n",
    "        indice_de_particion = particion(lista,inicio,fin)\n",
    "        #sorteamos los elementos antes y despues de la particion\n",
    "        quickSort(lista, inicio, indice_de_particion - 1)\n",
    "        quickSort(lista, indice_de_particion + 1, fin)\n",
    "        \n",
    "def quick_sort(lista): #sobrecarga no existe en python\n",
    "    quickSort(lista, 0, len(lista)-1)"
   ]
  },
  {
   "cell_type": "markdown",
   "metadata": {},
   "source": [
    "### 4. Pruebas de Eficiencia"
   ]
  },
  {
   "cell_type": "markdown",
   "metadata": {},
   "source": [
    "### 4.1 Generacion de Datos\n",
    "Seran todas listas de 1000 numeros enteros, para evaluar de manera propia y evitar problemas externos a los procesos de Ordenamiento"
   ]
  },
  {
   "cell_type": "markdown",
   "metadata": {},
   "source": [
    "Datos Ordenados (ascendente, descendiente y todos iguales)"
   ]
  },
  {
   "cell_type": "code",
   "execution_count": 9,
   "metadata": {},
   "outputs": [],
   "source": [
    "arreglo_ascendiente = []\n",
    "arreglo_descendiente = []\n",
    "arreglo_espejo = []\n",
    "\n",
    "\n",
    "def generacion_ordenados(n=1000):\n",
    "    arreglo_ascendiente.clear() \n",
    "    arreglo_descendiente.clear()\n",
    "    arreglo_espejo.clear()\n",
    "    for i in range(n):\n",
    "        arreglo_ascendiente.append(i)\n",
    "    for i in range(n):\n",
    "        arreglo_descendiente.append(n-i)\n",
    "    for i in range(n):\n",
    "        arreglo_espejo.append(0)"
   ]
  },
  {
   "cell_type": "markdown",
   "metadata": {},
   "source": [
    "Datos Aleatorios"
   ]
  },
  {
   "cell_type": "code",
   "execution_count": 91,
   "metadata": {},
   "outputs": [
    {
     "name": "stdout",
     "output_type": "stream",
     "text": [
      "[0, 0, 2, 2, 1, 1, 1, 1, 8, 1, 9, 6, 0, 0, 1, 6, 7, 16, 0, 17, 6, 20, 22, 17, 13, 7, 14, 18, 8, 25, 27, 0, 10, 27, 21, 17, 9, 13, 21, 6, 5, 24, 6, 22, 22, 38, 16, 2, 46, 29, 34, 7, 24, 5, 35, 18, 53, 40, 39, 56, 55, 23, 36, 24, 8, 5, 29, 37, 10, 29, 12, 48, 35, 58, 46, 20, 47, 45, 26, 34, 9, 77, 81, 21, 68, 31, 20, 59, 48, 34, 81, 88, 71, 28, 87, 41, 7, 29, 4, 40, 51, 34, 8, 27, 72, 91, 40, 27, 83, 63, 50, 82, 58, 18, 33, 17, 31, 95, 71, 68, 33, 95, 74, 54, 114, 74, 51, 92, 56, 35, 130, 126, 23, 12, 28, 39, 40, 108, 16, 98, 97, 119, 135, 64, 141, 2, 29, 137, 68, 87, 28, 75, 111, 40, 116, 0, 67, 128, 45, 129, 27, 160, 76, 163, 129, 155, 50, 39, 95, 41, 138, 135, 0, 153, 82, 125, 4, 28, 92, 78, 61, 14, 61, 145, 20, 21, 124, 17, 136, 32, 32, 168, 121, 140, 42, 67, 135, 155, 108, 54, 138, 193, 186, 176, 51, 182, 79, 102, 171, 166, 95, 112, 132, 115, 30, 63, 57, 16, 86, 5, 150, 141, 58, 150, 56, 1, 18, 181, 161, 15, 58, 17, 231, 8, 220, 84, 18, 131, 60, 71, 171, 124, 54, 138, 33, 185, 239, 225, 146, 147, 121, 62, 200, 121, 206, 208, 97, 48, 49, 220, 181, 216, 210, 239, 27, 50, 31, 206, 173, 55, 127, 98, 97, 229, 71, 216, 93, 142, 236, 127, 38, 226, 281, 50, 25, 276, 7, 47, 121, 85, 208, 248, 246, 109, 205, 30, 84, 194, 1, 199, 135, 232, 146, 216, 284, 249, 79, 97, 151, 111, 29, 296, 277, 31, 160, 29, 25, 299, 244, 257, 271, 80, 29, 260, 41, 95, 35, 304, 34, 120, 206, 61, 291, 126, 296, 304, 20, 317, 41, 214, 336, 298, 289, 267, 161, 133, 104, 342, 160, 122, 135, 202, 67, 343, 330, 153, 234, 161, 37, 4, 234, 318, 288, 51, 37, 275, 109, 259, 135, 67, 178, 35, 125, 189, 145, 80, 224, 278, 360, 154, 313, 334, 270, 4, 341, 283, 153, 339, 53, 68, 135, 59, 54, 380, 283, 79, 139, 144, 309, 107, 367, 175, 104, 351, 324, 135, 258, 250, 128, 26, 47, 324, 216, 141, 22, 1, 170, 394, 66, 326, 134, 82, 379, 226, 282, 361, 218, 287, 4, 57, 38, 353, 76, 279, 18, 427, 189, 298, 282, 75, 220, 65, 21, 157, 186, 407, 440, 20, 183, 107, 349, 127, 341, 52, 181, 399, 286, 452, 447, 208, 317, 383, 79, 121, 442, 83, 409, 415, 90, 451, 211, 12, 91, 377, 473, 170, 400, 476, 210, 410, 342, 442, 376, 415, 127, 136, 81, 403, 359, 55, 195, 446, 19, 439, 240, 113, 102, 418, 470, 235, 179, 156, 420, 407, 446, 116, 114, 12, 337, 98, 204, 336, 285, 71, 285, 359, 409, 339, 28, 118, 267, 182, 271, 39, 111, 444, 353, 321, 446, 523, 118, 394, 194, 260, 45, 446, 1, 532, 201, 372, 441, 71, 338, 321, 127, 307, 519, 316, 418, 334, 412, 302, 130, 196, 430, 388, 178, 308, 415, 0, 311, 293, 215, 440, 329, 476, 452, 452, 218, 523, 484, 173, 86, 290, 527, 343, 95, 240, 317, 230, 203, 150, 25, 47, 250, 486, 74, 466, 424, 589, 199, 393, 506, 409, 249, 151, 5, 109, 435, 224, 180, 530, 475, 51, 570, 255, 124, 467, 136, 475, 543, 572, 609, 324, 453, 516, 436, 561, 456, 162, 486, 460, 265, 253, 283, 533, 496, 244, 281, 450, 79, 292, 240, 278, 343, 327, 553, 82, 141, 154, 236, 392, 156, 219, 65, 424, 417, 338, 555, 477, 425, 63, 211, 430, 398, 598, 20, 589, 389, 488, 6, 360, 305, 399, 429, 551, 559, 617, 225, 499, 224, 279, 446, 497, 29, 398, 344, 414, 169, 478, 130, 637, 546, 27, 403, 606, 577, 678, 27, 85, 658, 438, 138, 472, 186, 51, 266, 388, 335, 216, 465, 334, 345, 388, 284, 431, 258, 83, 481, 19, 552, 53, 358, 229, 665, 70, 667, 41, 31, 253, 204, 20, 636, 156, 244, 129, 484, 685, 117, 577, 223, 476, 716, 262, 377, 171, 620, 621, 735, 117, 167, 318, 110, 592, 26, 319, 589, 693, 384, 406, 732, 203, 77, 606, 707, 642, 248, 104, 713, 308, 700, 614, 123, 579, 42, 355, 545, 438, 677, 379, 70, 518, 663, 349, 12, 430, 501, 108, 443, 370, 650, 470, 724, 156, 445, 180, 751, 534, 666, 276, 630, 551, 495, 476, 446, 748, 606, 274, 330, 251, 88, 285, 461, 249, 768, 475, 583, 624, 684, 388, 344, 29, 506, 332, 186, 499, 217, 363, 816, 264, 348, 286, 610, 718, 282, 569, 10, 529, 195, 87, 247, 737, 416, 500, 568, 776, 246, 707, 487, 661, 728, 502, 458, 811, 17, 95, 301, 226, 414, 708, 249, 313, 679, 595, 377, 484, 566, 543, 352, 435, 763, 563, 338, 360, 719, 464, 277, 313, 257, 236, 123, 738, 197, 323, 122, 760, 548, 780, 706, 189, 196, 221, 756, 495, 283, 741, 603, 778, 537, 611, 289, 102, 852, 198, 303, 232, 369, 183, 309, 14, 725, 546, 129, 280, 46, 55, 566, 299, 714, 129, 653, 889, 770, 502, 105, 893, 12, 587, 291, 480, 490, 451, 348, 188, 52, 258, 882, 489, 116, 841, 66, 410, 503, 75, 590, 644, 702, 54, 155, 152, 830, 576, 311, 87, 254, 121, 571, 782, 426, 620, 610, 809, 633, 231, 794, 535, 389, 461, 930, 453, 304, 880, 602, 439, 312, 582, 635, 61, 624, 757, 101, 970, 781, 212, 640, 216, 270, 676, 83, 160, 245, 177, 565, 76, 160, 2, 418, 461, 705, 608, 481, 298, 33, 237, 295, 723, 289, 719, 880, 464]\n"
     ]
    }
   ],
   "source": [
    "arreglo_aleatorio_1 = []\n",
    "arreglo_aleatorio_2 = []\n",
    "arreglo_aleatorio_3 = []\n",
    "\n",
    "def generacion_aleatorios(n=1000):\n",
    "    arreglo_aleatorio_1.clear()\n",
    "    arreglo_aleatorio_2.clear()\n",
    "    arreglo_aleatorio_3.clear()\n",
    "    for i in range(n):\n",
    "        arreglo_aleatorio_1.append(random.randint(0,i))\n",
    "    for i in range(n):\n",
    "        arreglo_aleatorio_2.append(random.randint(0,n))\n",
    "    for i in range(n):\n",
    "        arreglo_aleatorio_3.append(random.randint(-999999,999999))\n"
   ]
  },
  {
   "cell_type": "markdown",
   "metadata": {},
   "source": [
    "#### El peor caso de Merge Sort: \n",
    "Es decir, el arreglo que genere el mayor numero de comparaciones. Para esto, tomaremos un arreglo ordenado, lo dividiremos en 2 sublistas, y alternaremos los elementos, como si estuvieramos barajeando las 2 sublistas."
   ]
  },
  {
   "cell_type": "code",
   "execution_count": 11,
   "metadata": {},
   "outputs": [],
   "source": [
    "def unir(listaPrincipal, listaIzquierda, listaDerecha, tam_izq, medio, tam_der):\n",
    "    i = j =0\n",
    "    while i<= medio - tam_izq:\n",
    "        listaPrincipal[i]=listaIzquierda[i]\n",
    "        i+=1\n",
    "    while j<= tam_der - medio:\n",
    "        listaPrincipal[i+j] = listaDerecha[j]\n",
    "        j+=1\n",
    "        \n",
    "def split(listaPrincipal, listaIzquierda, listaDerecha, tam_izq, medio, tam_der):\n",
    "    #este metodo separara los elementos de la lista principal de manera alternante\n",
    "    #la lista izquierda tendra los elementos en la posicion par; la derecha, los de posicion impar\n",
    "    i=0\n",
    "    while i<= medio - tam_izq:\n",
    "        listaIzquierda [i] = listaPrincipal[i*2]\n",
    "        i+=1\n",
    "    i=0\n",
    "    while i< tam_der - medio:\n",
    "        listaDerecha[i] = listaPrincipal[i*2 + 1]\n",
    "        i+=1\n",
    "def generarPeorCasoPrivado(listaPrincipal, tam_izq, tam_der):\n",
    "    if (tam_izq<tam_der):\n",
    "        medio = tam_izq + (tam_der - tam_izq)/2\n",
    "        #creando las listas auxiliares\n",
    "        listaIzquierda = [None] * len(listaPrincipal)\n",
    "        listaDerecha = [None] * len(listaPrincipal)\n",
    "        split(listaPrincipal, listaIzquierda, listaDerecha, tam_izq, medio, tam_der)\n",
    "        \n",
    "        #de manera recursiva, iremos \"barajeando\" los elemntos\n",
    "        \n",
    "        generarPeorCasoPrivado(listaIzquierda, tam_izq, medio)\n",
    "        generarPeorCasoPrivado(listaDerecha, medio+1, tam_der)\n",
    "        \n",
    "        unir(listaPrincipal, listaIzquierda, listaDerecha, tam_izq, medio, tam_der)\n",
    "\n",
    "def generarPeorCaso(lista):\n",
    "    generarPeorCasoPrivado(lista, 0, len(lista)-1)"
   ]
  },
  {
   "cell_type": "code",
   "execution_count": 12,
   "metadata": {},
   "outputs": [],
   "source": [
    "arreglo_barajeado=[]\n",
    "\n",
    "def generacion_peor_caso_MS(n):\n",
    "    generacion_ordenados(n)\n",
    "    arreglo_barajeado = arreglo_ascendiente.copy()\n",
    "    generarPeorCaso(arreglo_barajeado)"
   ]
  },
  {
   "cell_type": "code",
   "execution_count": 13,
   "metadata": {},
   "outputs": [],
   "source": [
    "def inicializar(n=1000):\n",
    "    generacion_ordenados(n)\n",
    "    generacion_aleatorios(n)\n",
    "    generacion_peor_caso_MS(n)"
   ]
  },
  {
   "cell_type": "markdown",
   "metadata": {},
   "source": [
    "### 4.2 Medicion y Comparacion"
   ]
  },
  {
   "cell_type": "markdown",
   "metadata": {},
   "source": [
    "Probando El Merge Sort"
   ]
  },
  {
   "cell_type": "code",
   "execution_count": 239,
   "metadata": {},
   "outputs": [],
   "source": [
    "inicializar(1000)"
   ]
  },
  {
   "cell_type": "code",
   "execution_count": 152,
   "metadata": {},
   "outputs": [
    {
     "name": "stdout",
     "output_type": "stream",
     "text": [
      "La prueba con el arreglo ordenado al revez 4.999399185180664 milisegundos\n"
     ]
    }
   ],
   "source": [
    "start_time = time.time()\n",
    "merge_sort(arreglo_descendiente)\n",
    "end_time = time.time()\n",
    "t_ms_1 = (end_time - start_time)*1000\n",
    "print(\"La prueba con el arreglo ordenado al revez %s milisegundos\" % (t_ms_1))"
   ]
  },
  {
   "cell_type": "code",
   "execution_count": 162,
   "metadata": {},
   "outputs": [
    {
     "name": "stdout",
     "output_type": "stream",
     "text": [
      "La prueba con el arreglo de 0's duro 5.955934524536133 milisegundos\n"
     ]
    }
   ],
   "source": [
    "start_time = time.time()\n",
    "merge_sort(arreglo_espejo)\n",
    "end_time = time.time()\n",
    "t_ms_2 = (end_time - start_time)*1000\n",
    "print(\"La prueba con el arreglo de 0's duro %s milisegundos\" % (t_ms_2))"
   ]
  },
  {
   "cell_type": "code",
   "execution_count": 154,
   "metadata": {},
   "outputs": [
    {
     "name": "stdout",
     "output_type": "stream",
     "text": [
      "La prueba con el arreglo ordenado duro 4.968404769897461 milisegundos\n"
     ]
    }
   ],
   "source": [
    "start_time = time.time()\n",
    "merge_sort(arreglo_ascendiente)\n",
    "end_time = time.time()\n",
    "t_ms_3 = (end_time - start_time)*1000\n",
    "print(\"La prueba con el arreglo ordenado duro %s milisegundos\" % (t_ms_3))"
   ]
  },
  {
   "cell_type": "code",
   "execution_count": 155,
   "metadata": {},
   "outputs": [
    {
     "name": "stdout",
     "output_type": "stream",
     "text": [
      "La prueba con el arreglo aleatorio duro 7.988691329956055 milisegundos\n"
     ]
    }
   ],
   "source": [
    "start_time = time.time()\n",
    "merge_sort(arreglo_aleatorio_3)\n",
    "end_time = time.time()\n",
    "t_ms_4 = (end_time - start_time)*1000\n",
    "print(\"La prueba con el arreglo aleatorio duro %s milisegundos\" % (t_ms_4))"
   ]
  },
  {
   "cell_type": "code",
   "execution_count": 168,
   "metadata": {},
   "outputs": [
    {
     "ename": "RecursionError",
     "evalue": "maximum recursion depth exceeded while calling a Python object",
     "output_type": "error",
     "traceback": [
      "\u001b[1;31m---------------------------------------------------------------------------\u001b[0m",
      "\u001b[1;31mRecursionError\u001b[0m                            Traceback (most recent call last)",
      "\u001b[1;32m<ipython-input-168-473aaf17f52a>\u001b[0m in \u001b[0;36m<module>\u001b[1;34m\u001b[0m\n\u001b[0;32m      1\u001b[0m \u001b[0mstart_time\u001b[0m \u001b[1;33m=\u001b[0m \u001b[0mtime\u001b[0m\u001b[1;33m.\u001b[0m\u001b[0mtime\u001b[0m\u001b[1;33m(\u001b[0m\u001b[1;33m)\u001b[0m\u001b[1;33m\u001b[0m\u001b[1;33m\u001b[0m\u001b[0m\n\u001b[1;32m----> 2\u001b[1;33m \u001b[0mmerge_sort\u001b[0m\u001b[1;33m(\u001b[0m\u001b[0marreglo_barajeado\u001b[0m\u001b[1;33m)\u001b[0m\u001b[1;33m\u001b[0m\u001b[1;33m\u001b[0m\u001b[0m\n\u001b[0m\u001b[0;32m      3\u001b[0m \u001b[0mend_time\u001b[0m \u001b[1;33m=\u001b[0m \u001b[0mtime\u001b[0m\u001b[1;33m.\u001b[0m\u001b[0mtime\u001b[0m\u001b[1;33m(\u001b[0m\u001b[1;33m)\u001b[0m\u001b[1;33m\u001b[0m\u001b[1;33m\u001b[0m\u001b[0m\n\u001b[0;32m      4\u001b[0m \u001b[0mt_ms_5\u001b[0m \u001b[1;33m=\u001b[0m \u001b[1;33m(\u001b[0m\u001b[0mend_time\u001b[0m \u001b[1;33m-\u001b[0m \u001b[0mstart_time\u001b[0m\u001b[1;33m)\u001b[0m\u001b[1;33m*\u001b[0m\u001b[1;36m1000\u001b[0m\u001b[1;33m\u001b[0m\u001b[1;33m\u001b[0m\u001b[0m\n\u001b[0;32m      5\u001b[0m \u001b[0mprint\u001b[0m\u001b[1;33m(\u001b[0m\u001b[1;34m\"La prueba con el arreglo barajeado duro %s milisegundos\"\u001b[0m \u001b[1;33m%\u001b[0m \u001b[1;33m(\u001b[0m\u001b[0mt_ms_5\u001b[0m\u001b[1;33m)\u001b[0m\u001b[1;33m)\u001b[0m\u001b[1;33m\u001b[0m\u001b[1;33m\u001b[0m\u001b[0m\n",
      "\u001b[1;32m<ipython-input-23-689afcc790a9>\u001b[0m in \u001b[0;36mmerge_sort\u001b[1;34m(lista)\u001b[0m\n\u001b[0;32m      8\u001b[0m     \u001b[1;31m#Para asegurarnos de que todas las particiones sean descompuestas a sus componentes individuales,\u001b[0m\u001b[1;33m\u001b[0m\u001b[1;33m\u001b[0m\u001b[1;33m\u001b[0m\u001b[0m\n\u001b[0;32m      9\u001b[0m     \u001b[1;31m#llamamos recursivamente a la funcion merge sort\u001b[0m\u001b[1;33m\u001b[0m\u001b[1;33m\u001b[0m\u001b[1;33m\u001b[0m\u001b[0m\n\u001b[1;32m---> 10\u001b[1;33m     \u001b[0mizquierda\u001b[0m \u001b[1;33m=\u001b[0m \u001b[0mmerge_sort\u001b[0m\u001b[1;33m(\u001b[0m\u001b[0mlista\u001b[0m\u001b[1;33m[\u001b[0m\u001b[1;33m:\u001b[0m\u001b[0mmitad\u001b[0m\u001b[1;33m]\u001b[0m\u001b[1;33m)\u001b[0m\u001b[1;33m\u001b[0m\u001b[1;33m\u001b[0m\u001b[0m\n\u001b[0m\u001b[0;32m     11\u001b[0m     \u001b[0mderecha\u001b[0m \u001b[1;33m=\u001b[0m \u001b[0mmerge_sort\u001b[0m\u001b[1;33m(\u001b[0m\u001b[0mlista\u001b[0m\u001b[1;33m[\u001b[0m\u001b[0mmitad\u001b[0m\u001b[1;33m:\u001b[0m\u001b[1;33m]\u001b[0m\u001b[1;33m)\u001b[0m\u001b[1;33m\u001b[0m\u001b[1;33m\u001b[0m\u001b[0m\n\u001b[0;32m     12\u001b[0m \u001b[1;33m\u001b[0m\u001b[0m\n",
      "... last 1 frames repeated, from the frame below ...\n",
      "\u001b[1;32m<ipython-input-23-689afcc790a9>\u001b[0m in \u001b[0;36mmerge_sort\u001b[1;34m(lista)\u001b[0m\n\u001b[0;32m      8\u001b[0m     \u001b[1;31m#Para asegurarnos de que todas las particiones sean descompuestas a sus componentes individuales,\u001b[0m\u001b[1;33m\u001b[0m\u001b[1;33m\u001b[0m\u001b[1;33m\u001b[0m\u001b[0m\n\u001b[0;32m      9\u001b[0m     \u001b[1;31m#llamamos recursivamente a la funcion merge sort\u001b[0m\u001b[1;33m\u001b[0m\u001b[1;33m\u001b[0m\u001b[1;33m\u001b[0m\u001b[0m\n\u001b[1;32m---> 10\u001b[1;33m     \u001b[0mizquierda\u001b[0m \u001b[1;33m=\u001b[0m \u001b[0mmerge_sort\u001b[0m\u001b[1;33m(\u001b[0m\u001b[0mlista\u001b[0m\u001b[1;33m[\u001b[0m\u001b[1;33m:\u001b[0m\u001b[0mmitad\u001b[0m\u001b[1;33m]\u001b[0m\u001b[1;33m)\u001b[0m\u001b[1;33m\u001b[0m\u001b[1;33m\u001b[0m\u001b[0m\n\u001b[0m\u001b[0;32m     11\u001b[0m     \u001b[0mderecha\u001b[0m \u001b[1;33m=\u001b[0m \u001b[0mmerge_sort\u001b[0m\u001b[1;33m(\u001b[0m\u001b[0mlista\u001b[0m\u001b[1;33m[\u001b[0m\u001b[0mmitad\u001b[0m\u001b[1;33m:\u001b[0m\u001b[1;33m]\u001b[0m\u001b[1;33m)\u001b[0m\u001b[1;33m\u001b[0m\u001b[1;33m\u001b[0m\u001b[0m\n\u001b[0;32m     12\u001b[0m \u001b[1;33m\u001b[0m\u001b[0m\n",
      "\u001b[1;31mRecursionError\u001b[0m: maximum recursion depth exceeded while calling a Python object"
     ]
    }
   ],
   "source": [
    "start_time = time.time()\n",
    "merge_sort(arreglo_barajeado)\n",
    "end_time = time.time()\n",
    "t_ms_5 = (end_time - start_time)*1000\n",
    "print(\"La prueba con el arreglo barajeado duro %s milisegundos\" % (t_ms_5))"
   ]
  },
  {
   "cell_type": "markdown",
   "metadata": {},
   "source": [
    "Probando el Merge Sort Iterativo"
   ]
  },
  {
   "cell_type": "code",
   "execution_count": 213,
   "metadata": {},
   "outputs": [],
   "source": [
    "inicializar()"
   ]
  },
  {
   "cell_type": "code",
   "execution_count": 178,
   "metadata": {},
   "outputs": [
    {
     "name": "stdout",
     "output_type": "stream",
     "text": [
      "La prueba con el arreglo ordenado al revez 11.020183563232422 milisegundos\n"
     ]
    }
   ],
   "source": [
    "start_time = time.time()\n",
    "mergesort_it(arreglo_descendiente)\n",
    "end_time = time.time()\n",
    "t_ms_1 = (end_time - start_time)*1000\n",
    "print(\"La prueba con el arreglo ordenado al revez %s milisegundos\" % (t_ms_1))"
   ]
  },
  {
   "cell_type": "code",
   "execution_count": 179,
   "metadata": {},
   "outputs": [
    {
     "name": "stdout",
     "output_type": "stream",
     "text": [
      "La prueba con el arreglo de 0's duro 8.01396369934082 milisegundos\n"
     ]
    }
   ],
   "source": [
    "start_time = time.time()\n",
    "mergesort_it(arreglo_espejo)\n",
    "end_time = time.time()\n",
    "t_ms_2 = (end_time - start_time)*1000\n",
    "print(\"La prueba con el arreglo de 0's duro %s milisegundos\" % (t_ms_2))"
   ]
  },
  {
   "cell_type": "code",
   "execution_count": 180,
   "metadata": {},
   "outputs": [
    {
     "name": "stdout",
     "output_type": "stream",
     "text": [
      "La prueba con el arreglo ordenado duro 5.991697311401367 milisegundos\n"
     ]
    }
   ],
   "source": [
    "start_time = time.time()\n",
    "mergesort_it(arreglo_ascendiente)\n",
    "end_time = time.time()\n",
    "t_ms_3 = (end_time - start_time)*1000\n",
    "print(\"La prueba con el arreglo ordenado duro %s milisegundos\" % (t_ms_3))"
   ]
  },
  {
   "cell_type": "code",
   "execution_count": 188,
   "metadata": {},
   "outputs": [
    {
     "name": "stdout",
     "output_type": "stream",
     "text": [
      "La prueba con el arreglo aleatorio duro 7.984638214111328 milisegundos\n"
     ]
    }
   ],
   "source": [
    "start_time = time.time()\n",
    "mergesort_it(arreglo_aleatorio_3)\n",
    "end_time = time.time()\n",
    "t_ms_4 = (end_time - start_time)*1000\n",
    "print(\"La prueba con el arreglo aleatorio duro %s milisegundos\" % (t_ms_4))"
   ]
  },
  {
   "cell_type": "code",
   "execution_count": 231,
   "metadata": {},
   "outputs": [],
   "source": [
    "inicializar()\n",
    "generarPeorCaso(arreglo_ascendiente)\n",
    "arreglo_barajeado = arreglo_ascendiente.copy()"
   ]
  },
  {
   "cell_type": "code",
   "execution_count": 232,
   "metadata": {},
   "outputs": [
    {
     "name": "stdout",
     "output_type": "stream",
     "text": [
      "La prueba con el arreglo barajeado duro 17.08054542541504 milisegundos\n"
     ]
    }
   ],
   "source": [
    "start_time = time.time()\n",
    "mergesort_it(arreglo_barajeado)\n",
    "end_time = time.time()\n",
    "t_ms_5 = (end_time - start_time)*1000\n",
    "print(\"La prueba con el arreglo barajeado duro %s milisegundos\" % (t_ms_5))"
   ]
  },
  {
   "cell_type": "markdown",
   "metadata": {},
   "source": [
    "Probando el QuickSort"
   ]
  },
  {
   "cell_type": "code",
   "execution_count": 163,
   "metadata": {},
   "outputs": [],
   "source": [
    "inicializar()"
   ]
  },
  {
   "cell_type": "code",
   "execution_count": 164,
   "metadata": {},
   "outputs": [
    {
     "name": "stdout",
     "output_type": "stream",
     "text": [
      "La prueba con el arreglo ordenado al revez 149.02257919311523 milisegundos\n"
     ]
    }
   ],
   "source": [
    "start_time = time.time()\n",
    "quick_sort(arreglo_descendiente)\n",
    "end_time = time.time()\n",
    "t_ms_1 = (end_time - start_time)*1000\n",
    "print(\"La prueba con el arreglo ordenado al revez %s milisegundos\" % (t_ms_1))"
   ]
  },
  {
   "cell_type": "code",
   "execution_count": 165,
   "metadata": {},
   "outputs": [
    {
     "name": "stdout",
     "output_type": "stream",
     "text": [
      "La prueba con el arreglo de 0's duro 207.0600986480713 milisegundos\n"
     ]
    }
   ],
   "source": [
    "start_time = time.time()\n",
    "quick_sort(arreglo_espejo)\n",
    "end_time = time.time()\n",
    "t_ms_2 = (end_time - start_time)*1000\n",
    "print(\"La prueba con el arreglo de 0's duro %s milisegundos\" % (t_ms_2))"
   ]
  },
  {
   "cell_type": "code",
   "execution_count": 166,
   "metadata": {},
   "outputs": [
    {
     "name": "stdout",
     "output_type": "stream",
     "text": [
      "La prueba con el arreglo ordenado duro 209.13124084472656 milisegundos\n"
     ]
    }
   ],
   "source": [
    "start_time = time.time()\n",
    "quick_sort(arreglo_ascendiente)\n",
    "end_time = time.time()\n",
    "t_ms_3 = (end_time - start_time)*1000\n",
    "print(\"La prueba con el arreglo ordenado duro %s milisegundos\" % (t_ms_3))"
   ]
  },
  {
   "cell_type": "code",
   "execution_count": 167,
   "metadata": {},
   "outputs": [
    {
     "name": "stdout",
     "output_type": "stream",
     "text": [
      "La prueba con el arreglo aleatorio duro 5.986690521240234 milisegundos\n"
     ]
    }
   ],
   "source": [
    "start_time = time.time()\n",
    "quick_sort(arreglo_aleatorio_3)\n",
    "end_time = time.time()\n",
    "t_ms_4 = (end_time - start_time)*1000\n",
    "print(\"La prueba con el arreglo aleatorio duro %s milisegundos\" % (t_ms_4))"
   ]
  },
  {
   "cell_type": "code",
   "execution_count": 169,
   "metadata": {},
   "outputs": [
    {
     "name": "stdout",
     "output_type": "stream",
     "text": [
      "La prueba con el arreglo barajeado duro 0.9019374847412109 milisegundos\n"
     ]
    }
   ],
   "source": [
    "start_time = time.time()\n",
    "quick_sort(arreglo_barajeado)\n",
    "end_time = time.time()\n",
    "t_ms_5 = (end_time - start_time)*1000\n",
    "print(\"La prueba con el arreglo barajeado duro %s milisegundos\" % (t_ms_5))"
   ]
  },
  {
   "cell_type": "markdown",
   "metadata": {},
   "source": [
    "Probando Mismo Ordenamiento, diferente cantidad de datos"
   ]
  },
  {
   "cell_type": "code",
   "execution_count": 249,
   "metadata": {},
   "outputs": [
    {
     "name": "stdout",
     "output_type": "stream",
     "text": [
      "La prueba con el arreglo de 500 0's duro 45.99285125732422 milisegundos\n"
     ]
    }
   ],
   "source": [
    "inicializar(500)#quinientos\n",
    "start_time = time.time()\n",
    "quick_sort(arreglo_espejo)\n",
    "end_time = time.time()\n",
    "t_qs_1 = (end_time - start_time)*1000\n",
    "print(\"La prueba con el arreglo de 2000 0's duro %s milisegundos\" % (t_qs_1))"
   ]
  },
  {
   "cell_type": "code",
   "execution_count": 252,
   "metadata": {},
   "outputs": [
    {
     "name": "stdout",
     "output_type": "stream",
     "text": [
      "La prueba con el arreglo de 2000 0's duro 740.1235103607178 milisegundos\n"
     ]
    }
   ],
   "source": [
    "inicializar(2000) # Dos Mil\n",
    "start_time = time.time()\n",
    "quick_sort(arreglo_espejo)\n",
    "end_time = time.time()\n",
    "t_qs_2 = (end_time - start_time)*1000\n",
    "print(\"La prueba con el arreglo de 2000 0's duro %s milisegundos\" % (t_qs_2))"
   ]
  },
  {
   "cell_type": "code",
   "execution_count": 253,
   "metadata": {},
   "outputs": [
    {
     "ename": "RecursionError",
     "evalue": "maximum recursion depth exceeded in comparison",
     "output_type": "error",
     "traceback": [
      "\u001b[1;31m---------------------------------------------------------------------------\u001b[0m",
      "\u001b[1;31mRecursionError\u001b[0m                            Traceback (most recent call last)",
      "\u001b[1;32m<ipython-input-253-6009aa123e61>\u001b[0m in \u001b[0;36m<module>\u001b[1;34m\u001b[0m\n\u001b[0;32m      2\u001b[0m \u001b[1;33m\u001b[0m\u001b[0m\n\u001b[0;32m      3\u001b[0m \u001b[0mstart_time\u001b[0m \u001b[1;33m=\u001b[0m \u001b[0mtime\u001b[0m\u001b[1;33m.\u001b[0m\u001b[0mtime\u001b[0m\u001b[1;33m(\u001b[0m\u001b[1;33m)\u001b[0m\u001b[1;33m\u001b[0m\u001b[1;33m\u001b[0m\u001b[0m\n\u001b[1;32m----> 4\u001b[1;33m \u001b[0mquick_sort\u001b[0m\u001b[1;33m(\u001b[0m\u001b[0marreglo_espejo\u001b[0m\u001b[1;33m)\u001b[0m\u001b[1;33m\u001b[0m\u001b[1;33m\u001b[0m\u001b[0m\n\u001b[0m\u001b[0;32m      5\u001b[0m \u001b[0mend_time\u001b[0m \u001b[1;33m=\u001b[0m \u001b[0mtime\u001b[0m\u001b[1;33m.\u001b[0m\u001b[0mtime\u001b[0m\u001b[1;33m(\u001b[0m\u001b[1;33m)\u001b[0m\u001b[1;33m\u001b[0m\u001b[1;33m\u001b[0m\u001b[0m\n\u001b[0;32m      6\u001b[0m \u001b[0mt_qs_3\u001b[0m \u001b[1;33m=\u001b[0m \u001b[1;33m(\u001b[0m\u001b[0mend_time\u001b[0m \u001b[1;33m-\u001b[0m \u001b[0mstart_time\u001b[0m\u001b[1;33m)\u001b[0m\u001b[1;33m*\u001b[0m\u001b[1;36m1000\u001b[0m\u001b[1;33m\u001b[0m\u001b[1;33m\u001b[0m\u001b[0m\n",
      "\u001b[1;32m<ipython-input-30-02ec405cef0c>\u001b[0m in \u001b[0;36mquick_sort\u001b[1;34m(lista)\u001b[0m\n\u001b[0;32m     23\u001b[0m \u001b[1;33m\u001b[0m\u001b[0m\n\u001b[0;32m     24\u001b[0m \u001b[1;32mdef\u001b[0m \u001b[0mquick_sort\u001b[0m\u001b[1;33m(\u001b[0m\u001b[0mlista\u001b[0m\u001b[1;33m)\u001b[0m\u001b[1;33m:\u001b[0m \u001b[1;31m#sobrecarga no existe en python\u001b[0m\u001b[1;33m\u001b[0m\u001b[1;33m\u001b[0m\u001b[0m\n\u001b[1;32m---> 25\u001b[1;33m     \u001b[0mquickSort\u001b[0m\u001b[1;33m(\u001b[0m\u001b[0mlista\u001b[0m\u001b[1;33m,\u001b[0m \u001b[1;36m0\u001b[0m\u001b[1;33m,\u001b[0m \u001b[0mlen\u001b[0m\u001b[1;33m(\u001b[0m\u001b[0mlista\u001b[0m\u001b[1;33m)\u001b[0m\u001b[1;33m-\u001b[0m\u001b[1;36m1\u001b[0m\u001b[1;33m)\u001b[0m\u001b[1;33m\u001b[0m\u001b[1;33m\u001b[0m\u001b[0m\n\u001b[0m",
      "\u001b[1;32m<ipython-input-30-02ec405cef0c>\u001b[0m in \u001b[0;36mquickSort\u001b[1;34m(lista, inicio, fin)\u001b[0m\n\u001b[0;32m     19\u001b[0m         \u001b[0mindice_de_particion\u001b[0m \u001b[1;33m=\u001b[0m \u001b[0mparticion\u001b[0m\u001b[1;33m(\u001b[0m\u001b[0mlista\u001b[0m\u001b[1;33m,\u001b[0m\u001b[0minicio\u001b[0m\u001b[1;33m,\u001b[0m\u001b[0mfin\u001b[0m\u001b[1;33m)\u001b[0m\u001b[1;33m\u001b[0m\u001b[1;33m\u001b[0m\u001b[0m\n\u001b[0;32m     20\u001b[0m         \u001b[1;31m#sorteamos los elementos antes y despues de la particion\u001b[0m\u001b[1;33m\u001b[0m\u001b[1;33m\u001b[0m\u001b[1;33m\u001b[0m\u001b[0m\n\u001b[1;32m---> 21\u001b[1;33m         \u001b[0mquickSort\u001b[0m\u001b[1;33m(\u001b[0m\u001b[0mlista\u001b[0m\u001b[1;33m,\u001b[0m \u001b[0minicio\u001b[0m\u001b[1;33m,\u001b[0m \u001b[0mindice_de_particion\u001b[0m \u001b[1;33m-\u001b[0m \u001b[1;36m1\u001b[0m\u001b[1;33m)\u001b[0m\u001b[1;33m\u001b[0m\u001b[1;33m\u001b[0m\u001b[0m\n\u001b[0m\u001b[0;32m     22\u001b[0m         \u001b[0mquickSort\u001b[0m\u001b[1;33m(\u001b[0m\u001b[0mlista\u001b[0m\u001b[1;33m,\u001b[0m \u001b[0mindice_de_particion\u001b[0m \u001b[1;33m+\u001b[0m \u001b[1;36m1\u001b[0m\u001b[1;33m,\u001b[0m \u001b[0mfin\u001b[0m\u001b[1;33m)\u001b[0m\u001b[1;33m\u001b[0m\u001b[1;33m\u001b[0m\u001b[0m\n\u001b[0;32m     23\u001b[0m \u001b[1;33m\u001b[0m\u001b[0m\n",
      "... last 1 frames repeated, from the frame below ...\n",
      "\u001b[1;32m<ipython-input-30-02ec405cef0c>\u001b[0m in \u001b[0;36mquickSort\u001b[1;34m(lista, inicio, fin)\u001b[0m\n\u001b[0;32m     19\u001b[0m         \u001b[0mindice_de_particion\u001b[0m \u001b[1;33m=\u001b[0m \u001b[0mparticion\u001b[0m\u001b[1;33m(\u001b[0m\u001b[0mlista\u001b[0m\u001b[1;33m,\u001b[0m\u001b[0minicio\u001b[0m\u001b[1;33m,\u001b[0m\u001b[0mfin\u001b[0m\u001b[1;33m)\u001b[0m\u001b[1;33m\u001b[0m\u001b[1;33m\u001b[0m\u001b[0m\n\u001b[0;32m     20\u001b[0m         \u001b[1;31m#sorteamos los elementos antes y despues de la particion\u001b[0m\u001b[1;33m\u001b[0m\u001b[1;33m\u001b[0m\u001b[1;33m\u001b[0m\u001b[0m\n\u001b[1;32m---> 21\u001b[1;33m         \u001b[0mquickSort\u001b[0m\u001b[1;33m(\u001b[0m\u001b[0mlista\u001b[0m\u001b[1;33m,\u001b[0m \u001b[0minicio\u001b[0m\u001b[1;33m,\u001b[0m \u001b[0mindice_de_particion\u001b[0m \u001b[1;33m-\u001b[0m \u001b[1;36m1\u001b[0m\u001b[1;33m)\u001b[0m\u001b[1;33m\u001b[0m\u001b[1;33m\u001b[0m\u001b[0m\n\u001b[0m\u001b[0;32m     22\u001b[0m         \u001b[0mquickSort\u001b[0m\u001b[1;33m(\u001b[0m\u001b[0mlista\u001b[0m\u001b[1;33m,\u001b[0m \u001b[0mindice_de_particion\u001b[0m \u001b[1;33m+\u001b[0m \u001b[1;36m1\u001b[0m\u001b[1;33m,\u001b[0m \u001b[0mfin\u001b[0m\u001b[1;33m)\u001b[0m\u001b[1;33m\u001b[0m\u001b[1;33m\u001b[0m\u001b[0m\n\u001b[0;32m     23\u001b[0m \u001b[1;33m\u001b[0m\u001b[0m\n",
      "\u001b[1;31mRecursionError\u001b[0m: maximum recursion depth exceeded in comparison"
     ]
    }
   ],
   "source": [
    "inicializar(10000) #diez Mil\n",
    "\n",
    "start_time = time.time()\n",
    "quick_sort(arreglo_espejo)\n",
    "end_time = time.time()\n",
    "t_qs_3 = (end_time - start_time)*1000\n",
    "print(\"La prueba con el arreglo de 10,000 0's duro %s milisegundos\" % (t_qs_3))"
   ]
  },
  {
   "cell_type": "markdown",
   "metadata": {},
   "source": []
  },
  {
   "cell_type": "code",
   "execution_count": 258,
   "metadata": {},
   "outputs": [
    {
     "name": "stdout",
     "output_type": "stream",
     "text": [
      "La prueba con el arreglo aleatorio de 500 tardo 6.010532379150391 milisegundos\n"
     ]
    }
   ],
   "source": [
    "generacion_aleatorios(500)\n",
    "start_time = time.time()\n",
    "merge_sort(arreglo_aleatorio_2)\n",
    "end_time = time.time()\n",
    "t_ms_1 = (end_time - start_time)*1000\n",
    "print(\"La prueba con el arreglo aleatorio de 500 tardo %s milisegundos\" % (t_ms_1))"
   ]
  },
  {
   "cell_type": "code",
   "execution_count": 259,
   "metadata": {},
   "outputs": [
    {
     "name": "stdout",
     "output_type": "stream",
     "text": [
      "La prueba con el arreglo aleatorio de 2000 tardo 21.14558219909668 milisegundos\n"
     ]
    }
   ],
   "source": [
    "generacion_aleatorios(2000)\n",
    "start_time = time.time()\n",
    "merge_sort(arreglo_aleatorio_2)\n",
    "end_time = time.time()\n",
    "t_ms_1 = (end_time - start_time)*1000\n",
    "print(\"La prueba con el arreglo aleatorio de 2000 tardo %s milisegundos\" % (t_ms_1))"
   ]
  },
  {
   "cell_type": "code",
   "execution_count": 260,
   "metadata": {},
   "outputs": [
    {
     "name": "stdout",
     "output_type": "stream",
     "text": [
      "La prueba con el arreglo aleatorio de 10,000 tardo 96.16494178771973 milisegundos\n"
     ]
    }
   ],
   "source": [
    "generacion_aleatorios(10000)\n",
    "start_time = time.time()\n",
    "merge_sort(arreglo_aleatorio_2)\n",
    "end_time = time.time()\n",
    "t_ms_1 = (end_time - start_time)*1000\n",
    "print(\"La prueba con el arreglo aleatorio de 10,000 tardo %s milisegundos\" % (t_ms_1))"
   ]
  },
  {
   "cell_type": "code",
   "execution_count": 261,
   "metadata": {},
   "outputs": [
    {
     "name": "stdout",
     "output_type": "stream",
     "text": [
      "La prueba con el arreglo aletorio de 100,000 tardo 1424.0870475769043 milisegundos\n"
     ]
    }
   ],
   "source": [
    "generacion_aleatorios(100000)\n",
    "start_time = time.time()\n",
    "merge_sort(arreglo_aleatorio_2)\n",
    "end_time = time.time()\n",
    "t_ms_1 = (end_time - start_time)*1000\n",
    "print(\"La prueba con el arreglo aletorio de 100,000 tardo %s milisegundos\" % (t_ms_1))"
   ]
  },
  {
   "cell_type": "markdown",
   "metadata": {},
   "source": [
    "### 6. Variaciones de la misma funcion sobre el mismo dataset\n",
    "##### Se haran 20 pruebas sobre el mismo dataset"
   ]
  },
  {
   "cell_type": "markdown",
   "metadata": {},
   "source": [
    "6.1 Sobre datos ordenados (ascendente, descendiente e iguales)"
   ]
  },
  {
   "cell_type": "code",
   "execution_count": 23,
   "metadata": {},
   "outputs": [],
   "source": [
    "generacion_ordenados(1000)\n",
    "arreglo_des = arreglo_descendiente.copy()\n",
    "arreglo_ig = arreglo_espejo.copy()\n",
    "arreglo_or = arreglo_ascendiente.copy()"
   ]
  },
  {
   "cell_type": "code",
   "execution_count": 19,
   "metadata": {},
   "outputs": [],
   "source": [
    "#pruebas sobre el arreglo de 0's\n",
    "#la ventaja es que no tengo que estar inicializandolo\n",
    "merge_sort_datos_iguales = []\n",
    "quick_sort_datos_iguales = []\n",
    "\n",
    "for i in range(0, 20):\n",
    "    start_time = time.time()\n",
    "    merge_sort(arreglo_ig)\n",
    "    end_time = time.time()\n",
    "    duracion_ms = (end_time - start_time)*1000\n",
    "    \n",
    "    start_time = time.time()\n",
    "    quick_sort(arreglo_ig)\n",
    "    end_time = time.time()\n",
    "    duracion_qs = (end_time - start_time)*1000\n",
    "    \n",
    "    \n",
    "    merge_sort_datos_iguales.append(duracion_ms)\n",
    "    quick_sort_datos_iguales.append(duracion_qs)"
   ]
  },
  {
   "cell_type": "code",
   "execution_count": 21,
   "metadata": {},
   "outputs": [],
   "source": [
    "merge_sort_datos_descendientes = []\n",
    "quick_sort_datos_descendientes = []\n",
    "\n",
    "for i in range(0, 20):\n",
    "    arreglo_des = arreglo_descendiente.copy()    \n",
    "    start_time = time.time()\n",
    "    merge_sort(arreglo_des)\n",
    "    end_time = time.time()\n",
    "    duracion_ms = (end_time - start_time)*1000\n",
    "    \n",
    "    arreglo_des = arreglo_descendiente.copy()\n",
    "    start_time = time.time()\n",
    "    quick_sort(arreglo_des)\n",
    "    end_time = time.time()\n",
    "    duracion_qs = (end_time - start_time)*1000\n",
    "    \n",
    "    \n",
    "    merge_sort_datos_descendientes.append(duracion_ms)\n",
    "    quick_sort_datos_descendientes.append(duracion_qs)"
   ]
  },
  {
   "cell_type": "code",
   "execution_count": 24,
   "metadata": {},
   "outputs": [],
   "source": [
    "merge_sort_datos_ascendientes = []\n",
    "quick_sort_datos_ascendientes = []\n",
    "\n",
    "for i in range(0, 20):\n",
    "    \n",
    "    start_time = time.time()\n",
    "    merge_sort(arreglo_or)\n",
    "    end_time = time.time()\n",
    "    duracion_ms = (end_time - start_time)*1000\n",
    "    \n",
    "    start_time = time.time()\n",
    "    quick_sort(arreglo_des)\n",
    "    end_time = time.time()\n",
    "    duracion_qs = (end_time - start_time)*1000\n",
    "    \n",
    "    \n",
    "    merge_sort_datos_ascendientes.append(duracion_ms)\n",
    "    quick_sort_datos_ascendientes.append(duracion_qs)"
   ]
  },
  {
   "cell_type": "markdown",
   "metadata": {},
   "source": [
    "6.2 Sobre datos aleatorios"
   ]
  },
  {
   "cell_type": "code",
   "execution_count": 92,
   "metadata": {},
   "outputs": [],
   "source": [
    "generacion_aleatorios(1000)\n",
    "lista_al_1 = arreglo_aleatorio_1.copy()\n",
    "lista_al_2 = arreglo_aleatorio_2.copy()"
   ]
  },
  {
   "cell_type": "code",
   "execution_count": 96,
   "metadata": {},
   "outputs": [],
   "source": [
    "merge_sort_datos_aleatorios1 = []\n",
    "quick_sort_datos_aleatorios1 = []\n",
    "\n",
    "for i in range(0, 20):\n",
    "    \n",
    "    lista_al_1 = arreglo_aleatorio_1.copy()\n",
    "    start_time = time.time()\n",
    "    mergesort_it(lista_al_1)\n",
    "    end_time = time.time()\n",
    "    duracion_ms = (end_time - start_time)*1000\n",
    "    \n",
    "    lista_al_1 = arreglo_aleatorio_1.copy()\n",
    "    start_time = time.time()\n",
    "    quick_sort(lista_al_1)\n",
    "    end_time = time.time()\n",
    "    duracion_qs = (end_time - start_time)*1000\n",
    "    \n",
    "    \n",
    "    merge_sort_datos_aleatorios1.append(duracion_ms)\n",
    "    quick_sort_datos_aleatorios1.append(duracion_qs)"
   ]
  },
  {
   "cell_type": "code",
   "execution_count": 97,
   "metadata": {},
   "outputs": [],
   "source": [
    "merge_sort_datos_aleatorios2 = []\n",
    "quick_sort_datos_aleatorios2 = []\n",
    "\n",
    "for i in range(0, 20):    \n",
    "    lista_al_2 = arreglo_aleatorio_2.copy()\n",
    "    start_time = time.time()\n",
    "    mergesort_it(lista_al_2)\n",
    "    end_time = time.time()\n",
    "    duracion_ms = (end_time - start_time)*1000\n",
    "    \n",
    "    lista_al_2 = arreglo_aleatorio_2.copy()\n",
    "    start_time = time.time()\n",
    "    quick_sort(lista_al_2)\n",
    "    end_time = time.time()\n",
    "    duracion_qs = (end_time - start_time)*1000\n",
    "    \n",
    "    \n",
    "    merge_sort_datos_aleatorios2.append(duracion_ms)\n",
    "    quick_sort_datos_aleatorios2.append(duracion_qs)"
   ]
  },
  {
   "cell_type": "markdown",
   "metadata": {},
   "source": [
    "### 7. Graficas"
   ]
  },
  {
   "cell_type": "code",
   "execution_count": 83,
   "metadata": {},
   "outputs": [
    {
     "data": {
      "image/png": "[encoded data removed]",
      "text/plain": [
       "<Figure size 432x288 with 1 Axes>"
      ]
     },
     "metadata": {
      "needs_background": "light"
     },
     "output_type": "display_data"
    }
   ],
   "source": [
    "data = [merge_sort_datos_iguales, quick_sort_datos_iguales]\n",
    "etiquetas = [\"Merge Sort\", \"Quick Sort\"]\n",
    "fig, ax = plt.subplots()\n",
    "\n",
    "fig.canvas.draw()\n",
    "\n",
    "plt.boxplot(data)\n",
    "plt.ylabel('Numero de Milisegundos')\n",
    "plt.title(\"Eficiencia promedio sobre una lista de numeros iguales\")\n",
    "ax.set_xticklabels(etiquetas)\n",
    "plt.show()"
   ]
  },
  {
   "cell_type": "code",
   "execution_count": 100,
   "metadata": {},
   "outputs": [
    {
     "data": {
      "image/png": "[encoded data removed]",
      "text/plain": [
       "<Figure size 432x288 with 1 Axes>"
      ]
     },
     "metadata": {
      "needs_background": "light"
     },
     "output_type": "display_data"
    }
   ],
   "source": [
    "data = [merge_sort_datos_descendientes, quick_sort_datos_descendientes]\n",
    "etiquetas = [\"Merge Sort\", \"Quick Sort\"]\n",
    "fig, ax = plt.subplots()\n",
    "fig.canvas.draw()\n",
    "\n",
    "plt.boxplot(data)\n",
    "plt.ylabel('Numero de Milisegundos')\n",
    "plt.title(\"Eficiencia promedio sobre una lista de numeros inversamente ordenados\")\n",
    "ax.set_xticklabels(etiquetas)\n",
    "plt.show()"
   ]
  },
  {
   "cell_type": "code",
   "execution_count": 101,
   "metadata": {},
   "outputs": [
    {
     "data": {
      "image/png": "[encoded data removed]",
      "text/plain": [
       "<Figure size 432x288 with 1 Axes>"
      ]
     },
     "metadata": {
      "needs_background": "light"
     },
     "output_type": "display_data"
    }
   ],
   "source": [
    "data = [merge_sort_datos_ascendientes, quick_sort_datos_ascendientes]\n",
    "etiquetas = [\"Merge Sort\", \"Quick Sort\"]\n",
    "fig, ax = plt.subplots()\n",
    "fig.canvas.draw()\n",
    "\n",
    "plt.boxplot(data)\n",
    "plt.ylabel('Numero de Milisegundos')\n",
    "plt.title(\"Eficiencia promedio sobre una lista de numeros ordenados de menor a mayor\")\n",
    "ax.set_xticklabels(etiquetas)\n",
    "plt.show()"
   ]
  },
  {
   "cell_type": "code",
   "execution_count": 102,
   "metadata": {},
   "outputs": [
    {
     "data": {
      "image/png": "[encoded data removed]",
      "text/plain": [
       "<Figure size 432x288 with 1 Axes>"
      ]
     },
     "metadata": {
      "needs_background": "light"
     },
     "output_type": "display_data"
    }
   ],
   "source": [
    "data = [merge_sort_datos_aleatorios1, quick_sort_datos_aleatorios1]\n",
    "etiquetas = [\"Merge Sort\", \"Quick Sort\"]\n",
    "fig, ax = plt.subplots()\n",
    "fig.canvas.draw()\n",
    "\n",
    "plt.boxplot(data)\n",
    "plt.ylabel('Numero de Milisegundos')\n",
    "plt.title(\"Eficiencia promedio sobre una lista de 1000 numeros aleatorios - 1er Dataset\")\n",
    "ax.set_xticklabels(etiquetas)\n",
    "plt.show()"
   ]
  },
  {
   "cell_type": "code",
   "execution_count": 104,
   "metadata": {},
   "outputs": [
    {
     "data": {
      "image/png": "[encoded data removed]",
      "text/plain": [
       "<Figure size 432x288 with 1 Axes>"
      ]
     },
     "metadata": {
      "needs_background": "light"
     },
     "output_type": "display_data"
    }
   ],
   "source": [
    "data = [merge_sort_datos_aleatorios2, quick_sort_datos_aleatorios2]\n",
    "etiquetas = [\"Merge Sort\", \"Quick Sort\"]\n",
    "fig, ax = plt.subplots()\n",
    "fig.canvas.draw()\n",
    "\n",
    "plt.boxplot(data)\n",
    "plt.ylabel('Numero de Milisegundos')\n",
    "plt.title(\"Eficiencia promedio sobre una lista de 1000 numeros aleatorios - 2ndo Dataset\")\n",
    "ax.set_xticklabels(etiquetas)\n",
    "plt.show()"
   ]
  },
  {
   "cell_type": "code",
   "execution_count": null,
   "metadata": {},
   "outputs": [],
   "source": []
  },
  {
   "cell_type": "code",
   "execution_count": null,
   "metadata": {},
   "outputs": [],
   "source": []
  }
 ],
 "metadata": {
  "kernelspec": {
   "display_name": "Python 3",
   "language": "python",
   "name": "python3"
  },
  "language_info": {
   "codemirror_mode": {
    "name": "ipython",
    "version": 3
   },
   "file_extension": ".py",
   "mimetype": "text/x-python",
   "name": "python",
   "nbconvert_exporter": "python",
   "pygments_lexer": "ipython3",
   "version": "3.7.6"
  }
 },
 "nbformat": 4,
 "nbformat_minor": 4
}
